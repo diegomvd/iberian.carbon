{
 "cells": [
  {
   "cell_type": "code",
   "execution_count": 1,
   "metadata": {},
   "outputs": [],
   "source": [
    "import geopandas as gpd\n",
    "import pandas as pd\n",
    "from pathlib import Path\n",
    "import re\n",
    "import numpy as np"
   ]
  },
  {
   "cell_type": "code",
   "execution_count": 33,
   "metadata": {},
   "outputs": [],
   "source": [
    "ifn_biomass_fnames = Path('ifn4_biomass/').glob('*.shp')\n",
    "\n",
    "savedir = 'ifn4_biomass_flights/'\n",
    "if not Path(savedir).exists():\n",
    "        Path(savedir).mkdir(parents=True)\n",
    "\n",
    "\n",
    "pnoa_flights = ['1','2']\n",
    "for fname in ifn_biomass_fnames:\n",
    "    \n",
    "    ifn4 = gpd.read_file(fname)\n",
    "    utm = re.findall('ifn4_(.*)_biomass',fname.stem)[0]\n",
    "\n",
    "    ifn4['pnoa_file'] = None\n",
    "    for nflight in pnoa_flights:\n",
    "        flight_datadir = 'Entornos_Vuelo_LiDAR/{}_Cobertura/Huso_{}/'.format(nflight, utm)\n",
    "        flight_fname = next(Path(flight_datadir).glob('*.shp'))\n",
    "        flight = gpd.read_file(flight_fname)\n",
    "        flight = flight.to_crs('EPSG:258{}'.format(utm))\n",
    "\n",
    "        for _, row in flight.iterrows():\n",
    "            # print(row)\n",
    "            \n",
    "            try:\n",
    "                year_str = row.FECHA\n",
    "            except:\n",
    "                year_str = row.A_OVUELO\n",
    "            try:\n",
    "                year_list = year_str.split(', ')\n",
    "                if len(year_list[0]) > 4:\n",
    "                    year_list = year_str.split(',')\n",
    "            except:\n",
    "                continue\n",
    "            \n",
    "            year_gap = np.max([int(y) for y in year_list]) - np.min([int(y) for y in year_list])\n",
    "\n",
    "            if year_gap>1:\n",
    "                continue\n",
    "            \n",
    "            if '.asc' in row.FICHERO:\n",
    "                rasterfile = '{}{}'.format(re.findall(\"(NDSM.*).asc\",row.FICHERO)[0],'.tif') \n",
    "            elif '.tif' in row.FICHERO:  \n",
    "                rasterfile = row.FICHERO\n",
    "            else: \n",
    "                continue     \n",
    "            ifn4['pnoa_file'] = np.where( ifn4.geometry.within(row.geometry) & (ifn4.Year.isin(year_list)), rasterfile, ifn4['pnoa_file'])\n",
    "\n",
    "            \n",
    "    ifn4 = ifn4.dropna()\n",
    "    ifn4['mission'] = ifn4.apply(lambda row: re.findall(\"-COB(.)\",row.pnoa_file)[0] , axis=1) \n",
    "    ifn4.to_file('{}ifn4_{}_biomass_flight.shp'.format(savedir,utm), driver='ESRI Shapefile')"
   ]
  }
 ],
 "metadata": {
  "kernelspec": {
   "display_name": "iberian.carbon",
   "language": "python",
   "name": "python3"
  },
  "language_info": {
   "codemirror_mode": {
    "name": "ipython",
    "version": 3
   },
   "file_extension": ".py",
   "mimetype": "text/x-python",
   "name": "python",
   "nbconvert_exporter": "python",
   "pygments_lexer": "ipython3",
   "version": "3.11.9"
  }
 },
 "nbformat": 4,
 "nbformat_minor": 2
}
