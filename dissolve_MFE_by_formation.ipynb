{
 "cells": [
  {
   "cell_type": "code",
   "execution_count": 12,
   "metadata": {},
   "outputs": [
    {
     "name": "stdout",
     "output_type": "stream",
     "text": [
      "data/MFESpain/MFE_30.shp\n",
      "data/MFESpain/MFE_24.shp\n",
      "data/MFESpain/MFE_21.shp\n",
      "data/MFESpain/MFE_22.shp\n",
      "Dissolved 3 out of 0\n",
      "Saved\n",
      "data/MFESpain/MFE_23.shp\n",
      "Dissolved 4 out of 0\n",
      "Saved\n",
      "data/MFESpain/MFE_51.shp\n",
      "Dissolved 5 out of 0\n",
      "Saved\n",
      "data/MFESpain/MFE_52.shp\n",
      "Dissolved 6 out of 0\n",
      "Saved\n",
      "data/MFESpain/MFE_42.shp\n",
      "Dissolved 7 out of 0\n",
      "Saved\n",
      "data/MFESpain/MFE_43.shp\n",
      "Dissolved 8 out of 0\n",
      "Saved\n",
      "data/MFESpain/MFE_41.shp\n",
      "Dissolved 9 out of 0\n",
      "Saved\n",
      "data/MFESpain/MFE_62.shp\n",
      "Dissolved 10 out of 0\n",
      "Saved\n",
      "data/MFESpain/MFE_61.shp\n",
      "Dissolved 11 out of 0\n",
      "Saved\n",
      "data/MFESpain/MFE_12.shp\n",
      "Dissolved 12 out of 0\n",
      "Saved\n",
      "data/MFESpain/MFE_13.shp\n",
      "Dissolved 13 out of 0\n",
      "Saved\n",
      "data/MFESpain/MFE_11.shp\n",
      "Dissolved 14 out of 0\n",
      "Saved\n"
     ]
    }
   ],
   "source": [
    "import geopandas as gpd\n",
    "from pathlib import Path\n",
    "import glob\n",
    "\n",
    "mfe_dir = 'data/MFESpain/'\n",
    "mfe_files = Path(mfe_dir).glob('MFE_*.shp') \n",
    "\n",
    "for i,fname in enumerate([f for f in mfe_files]):\n",
    "    print(fname)\n",
    "    if not Path(f'data/MFESpain/dissolved_by_form_{fname.stem}.shp').exists():\n",
    "        mfe = gpd.read_file(fname)\n",
    "        mfe = mfe.dissolve(by='FormArbol')\n",
    "        print(f'Dissolved {i} out of {len([f for f in mfe_files])}')\n",
    "        mfe.to_file(f'data/MFESpain/dissolved_by_form_{fname.stem}.shp',driver='ESRI Shapefile')\n",
    "        print('Saved')"
   ]
  }
 ],
 "metadata": {
  "kernelspec": {
   "display_name": "iberian.carbon",
   "language": "python",
   "name": "python3"
  },
  "language_info": {
   "codemirror_mode": {
    "name": "ipython",
    "version": 3
   },
   "file_extension": ".py",
   "mimetype": "text/x-python",
   "name": "python",
   "nbconvert_exporter": "python",
   "pygments_lexer": "ipython3",
   "version": "3.12.3"
  }
 },
 "nbformat": 4,
 "nbformat_minor": 2
}
