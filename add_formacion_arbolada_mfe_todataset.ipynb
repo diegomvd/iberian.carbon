{
 "cells": [
  {
   "cell_type": "code",
   "execution_count": 1,
   "metadata": {},
   "outputs": [],
   "source": [
    "import geopandas as gpd\n",
    "from geoutils import  add_feature\n",
    "from pathlib import Path\n",
    "import glob\n",
    "import pandas as pd\n",
    "import numpy as np"
   ]
  },
  {
   "cell_type": "code",
   "execution_count": 2,
   "metadata": {},
   "outputs": [],
   "source": [
    "ifn4_dir = 'ifn4_biomass_flights/'\n",
    "mfe_dir = '/home/dibepa/Documents/MFESpain/'"
   ]
  },
  {
   "cell_type": "code",
   "execution_count": 3,
   "metadata": {},
   "outputs": [
    {
     "name": "stdout",
     "output_type": "stream",
     "text": [
      "MFE_43\n",
      "MFE_62\n",
      "MFE_30\n",
      "MFE_13\n",
      "MFE_52\n",
      "MFE_42\n",
      "MFE_12\n",
      "MFE_11\n",
      "MFE_22\n",
      "MFE_23\n",
      "MFE_24\n",
      "MFE_61\n",
      "MFE_51\n",
      "MFE_41\n",
      "MFE_21\n"
     ]
    }
   ],
   "source": [
    "for mfe_file in Path(mfe_dir).glob('MFE*.shp'):\n",
    "    print(mfe_file.stem)\n",
    "    if not Path(f'{mfe_dir}/dissolved_{mfe_file.stem}.shp').exists():\n",
    "        \n",
    "        mfe_contour = gpd.read_file(mfe_file).dissolve()\n",
    "        mfe_contour.to_file(f'{mfe_dir}/dissolved_{mfe_file.stem}.shp',driver='ESRI Shapefile',index=False)\n",
    "    "
   ]
  },
  {
   "cell_type": "code",
   "execution_count": 4,
   "metadata": {},
   "outputs": [
    {
     "name": "stdout",
     "output_type": "stream",
     "text": [
      "ifn4_29_biomass_flight\n",
      "\n",
      "Found a matching CCAA\n",
      "\n",
      "\n",
      "Found a matching CCAA\n",
      "\n",
      "Saving\n",
      "ifn4_30_biomass_flight\n",
      "\n",
      "Found a matching CCAA\n",
      "\n",
      "\n",
      "Found a matching CCAA\n",
      "\n",
      "\n",
      "Found a matching CCAA\n",
      "\n",
      "Saving\n",
      "ifn4_31_biomass_flight\n",
      "\n",
      "Found a matching CCAA\n",
      "\n",
      "Saving\n"
     ]
    }
   ],
   "source": [
    "\n",
    "for ifn4_file in Path(ifn4_dir).glob('*.shp'):\n",
    "    print(ifn4_file.stem)\n",
    "    ifn4_points = gpd.read_file(ifn4_file)\n",
    "    original_crs = ifn4_points.crs\n",
    "    ifn4_allometry = gpd.GeoDataFrame()\n",
    "\n",
    "    for mfe_file in Path(mfe_dir).glob('MFE*.shp'):\n",
    "        mfe_contour = gpd.read_file(f'{mfe_dir}dissolved_{mfe_file.stem}.shp')\n",
    "        crs = mfe_contour.crs\n",
    "        ifn4_points = ifn4_points.to_crs(mfe_contour.crs)\n",
    "\n",
    "        intersecting = ifn4_points.geometry.intersects(mfe_contour.iloc[0].geometry)\n",
    "\n",
    "        if np.any(intersecting):\n",
    "            print('\\nFound a matching CCAA\\n')\n",
    "            gdf = ifn4_points[intersecting]\n",
    "            gdf = add_feature(gdf,'FormArbol',mfe_file,col_name='Plot type')\n",
    "            gdf = gdf.to_crs(original_crs)\n",
    "            ifn4_allometry = pd.concat([ifn4_allometry,gdf])\n",
    "    if len(ifn4_allometry.index)>0:    \n",
    "        print('Saving')\n",
    "        ifn4_allometry.to_file(f'ifn4_biomass_plottype/{ifn4_file.stem}.shp',driver='ESRI Shapefile',index=False)"
   ]
  },
  {
   "cell_type": "code",
   "execution_count": 6,
   "metadata": {},
   "outputs": [
    {
     "data": {
      "text/plain": [
       "Index(['index', 'Estadillo', 'Provincia', 'AGC', 'BGC', 'AGB', 'BGB', 'Type',\n",
       "       'Year', 'Region', 'pnoa_file', 'mission', 'geometry', 'Plot type'],\n",
       "      dtype='object')"
      ]
     },
     "execution_count": 6,
     "metadata": {},
     "output_type": "execute_result"
    }
   ],
   "source": [
    "ifn4_allometry.columns"
   ]
  }
 ],
 "metadata": {
  "kernelspec": {
   "display_name": "sentinel.mosaics",
   "language": "python",
   "name": "python3"
  },
  "language_info": {
   "codemirror_mode": {
    "name": "ipython",
    "version": 3
   },
   "file_extension": ".py",
   "mimetype": "text/x-python",
   "name": "python",
   "nbconvert_exporter": "python",
   "pygments_lexer": "ipython3",
   "version": "3.11.9"
  }
 },
 "nbformat": 4,
 "nbformat_minor": 2
}
